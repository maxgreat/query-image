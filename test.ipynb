{
 "cells": [
  {
   "cell_type": "code",
   "execution_count": 24,
   "metadata": {},
   "outputs": [],
   "source": [
    "import json\n",
    "import csv\n",
    "from PIL import Image, ImageDraw\n",
    "from torchvision import transforms\n",
    "from IPython.display import display, Image\n",
    "import torch.nn as nn\n",
    "import random"
   ]
  },
  {
   "cell_type": "code",
   "execution_count": 50,
   "metadata": {},
   "outputs": [
    {
     "data": {
      "text/plain": [
       "[]"
      ]
     },
     "execution_count": 50,
     "metadata": {},
     "output_type": "execute_result"
    }
   ],
   "source": [
    "l = ['a', 'b', 'c', 'd']\n",
    "random.choices(l, k=int(len(l)*0.0))"
   ]
  },
  {
   "cell_type": "code",
   "execution_count": 37,
   "metadata": {},
   "outputs": [],
   "source": [
    "f = open(\"/data/datasets/fr_shopping.json\")\n",
    "f2 = open(\"/data/datasets/openimages/train-annotations-bbox.csv\")"
   ]
  },
  {
   "cell_type": "code",
   "execution_count": 12,
   "metadata": {},
   "outputs": [],
   "source": [
    "reader = csv.reader(f2)"
   ]
  },
  {
   "cell_type": "code",
   "execution_count": 13,
   "metadata": {
    "scrolled": true
   },
   "outputs": [
    {
     "name": "stdout",
     "output_type": "stream",
     "text": [
      "['ImageID', 'Source', 'LabelName', 'Confidence', 'XMin', 'XMax', 'YMin', 'YMax', 'IsOccluded', 'IsTruncated', 'IsGroupOf', 'IsDepiction', 'IsInside']\n"
     ]
    }
   ],
   "source": [
    "for i in reader:\n",
    "    print(i)\n",
    "    break"
   ]
  },
  {
   "cell_type": "code",
   "execution_count": 14,
   "metadata": {},
   "outputs": [],
   "source": [
    "i = Image.open(\"/data/datasets/openimages/images/train/000002b66c9c498e.jpg\")"
   ]
  },
  {
   "cell_type": "code",
   "execution_count": 15,
   "metadata": {},
   "outputs": [
    {
     "data": {
      "text/plain": [
       "256"
      ]
     },
     "execution_count": 15,
     "metadata": {},
     "output_type": "execute_result"
    }
   ],
   "source": [
    "i.width"
   ]
  },
  {
   "cell_type": "code",
   "execution_count": 16,
   "metadata": {},
   "outputs": [],
   "source": [
    "draw = ImageDraw.Draw(i)\n",
    "x0 = 355.2\n",
    "x1 = 395.200512\n",
    "y0 = 241.600512\n",
    "y1 = 1024.0\n",
    "draw.line((x0,y0, x0, y1), fill=128)\n",
    "draw.line((x0,y1, x1, y1), fill=128)\n",
    "draw.line((x1,y0, x1, y1), fill=128)\n",
    "draw.line((x1,y0, x0, y0), fill=128)"
   ]
  },
  {
   "cell_type": "code",
   "execution_count": 17,
   "metadata": {},
   "outputs": [],
   "source": [
    "%load_ext autoreload"
   ]
  },
  {
   "cell_type": "code",
   "execution_count": 18,
   "metadata": {},
   "outputs": [],
   "source": [
    "%autoreload 2"
   ]
  },
  {
   "cell_type": "code",
   "execution_count": 19,
   "metadata": {},
   "outputs": [],
   "source": [
    "normalize = transforms.Normalize(\n",
    "        mean=[0.485, 0.456, 0.406], std=[0.229, 0.224, 0.225])\n",
    "prepro = transforms.Compose([\n",
    "        transforms.RandomResizedCrop(256),\n",
    "\n",
    "        transforms.RandomHorizontalFlip(),\n",
    "        transforms.ToTensor(),\n",
    "        normalize,\n",
    "    ])"
   ]
  },
  {
   "cell_type": "code",
   "execution_count": 20,
   "metadata": {},
   "outputs": [],
   "source": [
    "from dataset import openimages"
   ]
  },
  {
   "cell_type": "code",
   "execution_count": 21,
   "metadata": {},
   "outputs": [],
   "source": [
    "d = openimages.OpenImages(image_dir=\"/data/datasets/openimages/images/train/\", \n",
    "                          image_file=\"/data/datasets/openimages/train-annotations-human-imagelabels.csv\", \n",
    "                         classes=\"/data/datasets/openimages/class-descriptions.csv\", \n",
    "                          transform=prepro)"
   ]
  },
  {
   "cell_type": "code",
   "execution_count": 22,
   "metadata": {},
   "outputs": [
    {
     "data": {
      "text/plain": [
       "13444569"
      ]
     },
     "execution_count": 22,
     "metadata": {},
     "output_type": "execute_result"
    }
   ],
   "source": [
    "len(d)"
   ]
  },
  {
   "cell_type": "code",
   "execution_count": 28,
   "metadata": {},
   "outputs": [
    {
     "data": {
      "text/plain": [
       "tensor([[[ 1.8722,  1.5125,  0.7591,  ..., -0.4568, -0.2171, -0.0972],\n",
       "         [ 1.8379,  1.4783,  0.7419,  ..., -0.4568, -0.2342, -0.1143],\n",
       "         [ 1.7523,  1.4098,  0.6906,  ..., -0.4739, -0.2513, -0.1486],\n",
       "         ...,\n",
       "         [-0.9363, -0.9705, -1.0219,  ...,  1.8550,  1.8379,  1.8379],\n",
       "         [-0.9020, -0.9363, -0.9877,  ...,  1.8893,  1.8722,  1.8722],\n",
       "         [-0.9020, -0.9363, -0.9877,  ...,  1.8893,  1.8722,  1.8722]],\n",
       "\n",
       "        [[ 1.6408,  1.2906,  0.5203,  ..., -0.9153, -0.6702, -0.5476],\n",
       "         [ 1.6057,  1.2556,  0.5028,  ..., -0.9328, -0.7052, -0.5826],\n",
       "         [ 1.5182,  1.1856,  0.4503,  ..., -0.9853, -0.7752, -0.6702],\n",
       "         ...,\n",
       "         [-0.6176, -0.6527, -0.7052,  ...,  1.8333,  1.8158,  1.8158],\n",
       "         [-0.5826, -0.6176, -0.6702,  ...,  1.8508,  1.8333,  1.8333],\n",
       "         [-0.5826, -0.6176, -0.6702,  ...,  1.8508,  1.8333,  1.8333]],\n",
       "\n",
       "        [[ 1.9951,  1.6291,  0.8448,  ..., -0.3230, -0.0790,  0.0431],\n",
       "         [ 1.9603,  1.5942,  0.8274,  ..., -0.3230, -0.0964,  0.0256],\n",
       "         [ 1.8731,  1.5071,  0.7576,  ..., -0.3578, -0.1312, -0.0267],\n",
       "         ...,\n",
       "         [ 0.0605,  0.0256, -0.0267,  ...,  2.2914,  2.2740,  2.2740],\n",
       "         [ 0.0953,  0.0605,  0.0082,  ...,  2.3088,  2.2914,  2.2914],\n",
       "         [ 0.0953,  0.0605,  0.0082,  ...,  2.3088,  2.2914,  2.2914]]])"
      ]
     },
     "metadata": {},
     "output_type": "display_data"
    },
    {
     "data": {
      "text/plain": [
       "array([-0.3191781 ,  0.00813018, -0.0579593 ,  0.28145882, -0.34011158,\n",
       "        0.09378963, -0.12503968,  0.17133586,  0.3016977 , -0.08874047,\n",
       "       -0.03934864,  0.01510867,  0.23296657, -0.0663634 ,  0.07418098,\n",
       "       -0.05320128, -0.12416094,  0.22386377, -0.0261677 ,  0.32690594,\n",
       "       -0.31277645, -0.00819429, -0.14497812,  0.05501267, -0.2995592 ,\n",
       "       -0.18566635, -0.36441907, -0.2748096 ,  0.1738777 , -0.36737654,\n",
       "       -0.24017707,  0.12989672, -0.11810648,  0.16864406,  0.09589951,\n",
       "       -0.12118461, -0.16209422, -0.55017066,  0.17454751,  0.03657708,\n",
       "        0.06476065,  0.06083766, -0.36440513,  0.1320525 , -0.22817664,\n",
       "        0.2972062 , -0.07159831, -0.31482202,  0.07538127,  0.11382586,\n",
       "       -0.04153249,  0.07134147, -0.00764007,  0.21274228,  0.16016458,\n",
       "        0.35069838,  0.12906252,  0.20038675,  0.00628421,  0.14447133,\n",
       "        0.2435166 , -0.07531429,  0.3580875 ,  0.02696533,  0.21661396,\n",
       "       -0.24942194, -0.08454967, -0.18485625,  0.09692568, -0.1450011 ,\n",
       "       -0.06556775, -0.07268161, -0.06632861, -0.59086555, -0.15793023,\n",
       "       -0.06612902,  0.26318398,  0.13337736, -0.29537022, -0.2504044 ,\n",
       "        0.05344005, -0.12692603,  0.10109238,  0.10067644, -0.13702846,\n",
       "       -0.14224985, -0.00491608,  0.09069127,  0.03015529,  0.04104471,\n",
       "        0.00595647,  0.0046656 ,  0.09842028, -0.04746636,  0.40968904,\n",
       "        0.12485541, -0.11369252,  0.17554109, -0.02125145, -0.04948825,\n",
       "       -0.00313302,  0.00528285,  0.00460991,  0.1798412 , -0.20830064,\n",
       "       -0.08541764, -0.3628384 ,  0.16923968,  0.19578086,  0.1192164 ,\n",
       "        0.03518336,  0.1578847 , -0.07371788, -0.17616606, -0.32106707,\n",
       "        0.38345423, -0.00733311, -0.23087123, -0.19565104,  0.12344539,\n",
       "        0.42530593, -0.15038083,  0.00383323, -0.03288647, -0.13602881,\n",
       "        0.15747082,  0.23608552, -0.3141269 ,  0.18845125,  0.10446054,\n",
       "       -0.06893552,  0.29059535,  0.30491522,  0.2942052 ,  0.04173687,\n",
       "       -0.02652405,  0.10594268, -0.09884625,  0.03251199, -0.02766773,\n",
       "       -0.01572752,  0.285205  ,  0.12162151,  0.08894878,  0.28826895,\n",
       "       -0.01237008, -0.07405818, -0.06461512, -0.09017544, -0.0594632 ,\n",
       "        0.03961098, -0.3233702 , -0.01339482, -0.01909059, -0.06964814,\n",
       "        0.05550464,  0.1572575 , -0.41090414,  0.06606659, -0.11888085,\n",
       "        0.31208593, -0.3117441 ,  0.30912882,  0.28308657,  0.04002108,\n",
       "       -0.11289652,  0.09176373,  0.30930632, -0.10567432, -0.0871706 ,\n",
       "       -0.39556932, -0.17240457, -0.09028441, -0.07810452, -0.16658643,\n",
       "       -0.11459315,  0.05635821, -0.02129223, -0.06088673, -0.5382345 ,\n",
       "       -0.06142711, -0.00759887, -0.13532901,  0.155786  ,  0.00522336,\n",
       "       -0.1575874 , -0.26239893, -0.1403412 , -0.23731564,  0.3822296 ,\n",
       "        0.21585512, -0.3549089 ,  0.02371422, -0.00616871, -0.21956877,\n",
       "       -0.06768297,  0.2014884 ,  0.2652146 ,  0.12331972, -0.0427633 ,\n",
       "       -0.22260201,  0.40900788, -0.24305747,  0.03425148, -0.06750221,\n",
       "       -0.10083349,  0.07578577,  0.10030138, -0.38774607,  0.03235391,\n",
       "       -0.18201065, -0.24574132, -0.08257393, -0.06528508,  0.22136533,\n",
       "        0.17535223, -0.20450094, -0.10811962,  0.006803  , -0.24278437,\n",
       "        0.29001245,  0.3472129 , -0.14999492,  0.10694381,  0.21108668,\n",
       "       -0.02800432,  0.20589761,  0.02869222,  0.2824332 , -0.16528077,\n",
       "        0.13107245, -0.3167777 , -0.09754304,  0.19294293,  0.2577284 ,\n",
       "       -0.26875916, -0.35368308, -0.22373663, -0.12014361, -0.31656092,\n",
       "        0.07814034,  0.10092113,  0.07673305, -0.03165731,  0.10144863,\n",
       "       -0.4147221 ,  0.10628506, -0.15293354, -0.2745211 , -0.18093728,\n",
       "        0.2063994 ,  0.20273761,  0.11311926, -0.17376731,  0.36876133,\n",
       "        0.31426972, -0.19280978,  0.15609285, -0.30848005, -0.01421161,\n",
       "        0.0239301 ,  0.21090269, -0.64459085, -0.10203337, -0.09619707,\n",
       "       -0.03077651, -0.00692339,  0.18290578,  0.40060702,  0.03758455,\n",
       "       -0.10373968,  0.12081361,  0.20410462, -0.23097908,  0.20913553,\n",
       "       -0.31337905, -0.18987684,  0.27314025, -0.01915769,  0.37949595,\n",
       "        0.07064219, -0.33263797, -0.00498271, -0.05874463,  0.03914521,\n",
       "        0.2164398 , -0.19381952, -0.10617355, -0.42475295, -0.22132392,\n",
       "        0.37603733, -0.22513095, -0.05830591,  0.16215539, -0.05871539,\n",
       "       -0.14487635, -0.3669818 ,  0.22789691, -0.07979057,  0.14305508],\n",
       "      dtype=float32)"
      ]
     },
     "metadata": {},
     "output_type": "display_data"
    }
   ],
   "source": [
    "i = 500\n",
    "display(d[i][0])\n",
    "display(d[i][1])"
   ]
  },
  {
   "cell_type": "code",
   "execution_count": 2,
   "metadata": {},
   "outputs": [],
   "source": [
    "we = openimages.WordEncoder(\"/data/datasets/openimages/train-annotations-bbox.csv\", \"/data/m.portaz/wiki.en.bin\")"
   ]
  },
  {
   "cell_type": "code",
   "execution_count": 3,
   "metadata": {},
   "outputs": [],
   "source": [
    "from models import models"
   ]
  },
  {
   "cell_type": "code",
   "execution_count": 4,
   "metadata": {},
   "outputs": [],
   "source": [
    "m = models.JointEmbedding(we)"
   ]
  },
  {
   "cell_type": "code",
   "execution_count": 6,
   "metadata": {},
   "outputs": [],
   "source": [
    "import torchvision.models as tmodels\n",
    "m = tmodels.resnet152(pretrained=True)"
   ]
  },
  {
   "cell_type": "code",
   "execution_count": 13,
   "metadata": {},
   "outputs": [],
   "source": [
    "base_layer = nn.Sequential(*list(m.children())[:-1])"
   ]
  },
  {
   "cell_type": "code",
   "execution_count": null,
   "metadata": {},
   "outputs": [],
   "source": [
    "base_layer(t[0])"
   ]
  }
 ],
 "metadata": {
  "kernelspec": {
   "display_name": "Python 3",
   "language": "python",
   "name": "python3"
  },
  "language_info": {
   "codemirror_mode": {
    "name": "ipython",
    "version": 3
   },
   "file_extension": ".py",
   "mimetype": "text/x-python",
   "name": "python",
   "nbconvert_exporter": "python",
   "pygments_lexer": "ipython3",
   "version": "3.6.5"
  }
 },
 "nbformat": 4,
 "nbformat_minor": 2
}
