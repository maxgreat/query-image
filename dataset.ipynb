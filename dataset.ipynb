{
 "cells": [
  {
   "cell_type": "markdown",
   "metadata": {},
   "source": [
    "### Verify openimage dataset with existing images"
   ]
  },
  {
   "cell_type": "code",
   "execution_count": null,
   "metadata": {},
   "outputs": [],
   "source": [
    "fin = \"/data/datasets/openimages/train-annotations-human-imagelabels.csv\"\n",
    "fout = \"/data/datasets/openimages/train-humanlabels.csv\"\n",
    "\n",
    "image_dir = \"/data/datasets/openimages/images/train/\"\n",
    "nb_incorrect = 0\n",
    "with open(fin) as f:\n",
    "    with open(fout, 'w') as writer:\n",
    "        for line in f:\n",
    "            i,s,c,l = line.rstrip().split(\",\")\n",
    "            if os.path.exists(image_dir+i+'.jpg'):\n",
    "                writer.write(line)\n",
    "            else:\n",
    "                nb_incorrect += 1\n",
    "print(\"Removed \", nb_incorrect, \" images.\")"
   ]
  },
  {
   "cell_type": "markdown",
   "metadata": {},
   "source": [
    "### Create dataset with sentences"
   ]
  },
  {
   "cell_type": "code",
   "execution_count": 1,
   "metadata": {},
   "outputs": [],
   "source": [
    "dictFile = \"/data/datasets/openimages/class-descriptions.csv\"\n",
    "classDict = {line.split(',')[0]:line.split(',')[1].rstrip() for line in open(dictFile)}"
   ]
  },
  {
   "cell_type": "code",
   "execution_count": 30,
   "metadata": {},
   "outputs": [],
   "source": [
    "fin = \"/data/datasets/openimages/train-humanlabels.csv\"\n",
    "images = {}\n",
    "with open(fin) as f:\n",
    "    for line in f:\n",
    "        im,s,c,l = line.split(\",\")\n",
    "        if '1' in l:\n",
    "            if im in images:\n",
    "                images[im].add(classDict[c])\n",
    "            else:\n",
    "                images[im] = set([classDict[c]])\n",
    "\n",
    "            "
   ]
  },
  {
   "cell_type": "code",
   "execution_count": 31,
   "metadata": {},
   "outputs": [],
   "source": [
    "fout = '/data/datasets/openimages/train-words.csv'\n",
    "with open(fout, 'w') as writer:\n",
    "    for im in images:\n",
    "        writer.write(im+'.jpg\\t')\n",
    "        for word in images[im]:\n",
    "            writer.write(word+' ')\n",
    "        writer.write('\\n')"
   ]
  }
 ],
 "metadata": {
  "kernelspec": {
   "display_name": "Python 3",
   "language": "python",
   "name": "python3"
  },
  "language_info": {
   "codemirror_mode": {
    "name": "ipython",
    "version": 3
   },
   "file_extension": ".py",
   "mimetype": "text/x-python",
   "name": "python",
   "nbconvert_exporter": "python",
   "pygments_lexer": "ipython3",
   "version": "3.6.5"
  }
 },
 "nbformat": 4,
 "nbformat_minor": 2
}
