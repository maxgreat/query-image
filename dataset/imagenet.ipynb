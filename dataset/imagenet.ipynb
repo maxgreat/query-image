{
 "cells": [
  {
   "cell_type": "code",
   "execution_count": 3,
   "metadata": {},
   "outputs": [],
   "source": [
    "from nltk.corpus import wordnet\n",
    "import os.path as pth\n",
    "import glob"
   ]
  },
  {
   "cell_type": "code",
   "execution_count": 64,
   "metadata": {},
   "outputs": [],
   "source": [
    "import fastText\n",
    "import torch\n",
    "import torch.utils.data as data\n",
    "import csv\n",
    "from PIL import Image\n",
    "from nltk.tokenize import word_tokenize\n",
    "import random\n",
    "import torchvision.transforms as transforms\n",
    "import time"
   ]
  },
  {
   "cell_type": "code",
   "execution_count": 66,
   "metadata": {},
   "outputs": [],
   "source": [
    "class FullImageNet(data.Dataset):\n",
    "    def __init__(self, main_dir, transform, word_enc = fastText.load_model(\"/data/m.portaz/wiki.en.bin\"), \n",
    "                 sset=\"train\"):\n",
    "        self.imageList = []\n",
    "        self.sset = sset\n",
    "        self.ts = transform\n",
    "        self.word_enc = word_enc\n",
    "        nb_directories = 0\n",
    "        t = time.time()\n",
    "        for j, directory in enumerate(glob.iglob(pth.join(main_dir + '*'))):\n",
    "            if pth.isdir(directory):\n",
    "                nb_directories += 1\n",
    "                d = pth.basename(directory)\n",
    "                s = wordnet.synset_from_pos_and_offset(d[0], int(d[1:]))\n",
    "                \n",
    "                for image in glob.iglob(pth.join(directory, \"*\")):\n",
    "                    if sset == \"train\":\n",
    "                        self.imageList.append( (image, s.lemma_names()) )\n",
    "                    else :\n",
    "                        if j%20 == 0:\n",
    "                            self.imageList.append( (image, [s.lemma_names()[0]]) )\n",
    "        print(\"Read\", len(self.imageList), \" images in \", time.time() - t, \" sec\")\n",
    "        print(\"With \", nb_directories, \" different classes\")\n",
    "    def __len__(self):\n",
    "        return len(self.imageList)\n",
    "    \n",
    "    def __getitem__(self, index):\n",
    "        im, cl = self.imageList[index]\n",
    "        txt_emb = self.word_enc.get_sentence_vector( random.choice(cl).replace(\"_\", \" \") )\n",
    "        return self.ts(Image.open(im).convert(\"RGB\")), txt_emb"
   ]
  },
  {
   "cell_type": "code",
   "execution_count": 67,
   "metadata": {},
   "outputs": [
    {
     "name": "stdout",
     "output_type": "stream",
     "text": [
      "Read 6651117  images in  22.641510009765625  sec\n",
      "With  21841  different classes\n",
      "torch.Size([3, 224, 224]) (300,)\n"
     ]
    }
   ],
   "source": [
    "if __name__ == \"__main__\":\n",
    "    main_dir = \"/data/datasets/imageNet/images/\"\n",
    "    normalize = transforms.Normalize(\n",
    "            mean=[0.485, 0.456, 0.406], std=[0.229, 0.224, 0.225])\n",
    "\n",
    "    prepro = transforms.Compose([\n",
    "        transforms.RandomResizedCrop(224),\n",
    "        transforms.RandomHorizontalFlip(),\n",
    "        transforms.ToTensor(),\n",
    "        normalize,\n",
    "    ])\n",
    "    d = FullImageNet(main_dir, transform=prepro)\n",
    "    print(d[0][0].shape, d[0][1].shape)"
   ]
  }
 ],
 "metadata": {
  "kernelspec": {
   "display_name": "Python 3",
   "language": "python",
   "name": "python3"
  },
  "language_info": {
   "codemirror_mode": {
    "name": "ipython",
    "version": 3
   },
   "file_extension": ".py",
   "mimetype": "text/x-python",
   "name": "python",
   "nbconvert_exporter": "python",
   "pygments_lexer": "ipython3",
   "version": "3.6.5"
  }
 },
 "nbformat": 4,
 "nbformat_minor": 2
}
