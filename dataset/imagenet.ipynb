{
 "cells": [
  {
   "cell_type": "code",
   "execution_count": 3,
   "metadata": {},
   "outputs": [],
   "source": [
    "from nltk.corpus import wordnet\n",
    "import os.path as pth\n",
    "import glob"
   ]
  },
  {
   "cell_type": "code",
   "execution_count": 43,
   "metadata": {},
   "outputs": [],
   "source": [
    "import fastText\n",
    "import torch\n",
    "import torch.utils.data as data\n",
    "import csv\n",
    "from PIL import Image\n",
    "from nltk.tokenize import word_tokenize\n",
    "import random\n",
    "import torchvision.transforms as transforms\n"
   ]
  },
  {
   "cell_type": "code",
   "execution_count": 60,
   "metadata": {},
   "outputs": [],
   "source": [
    "class FullImageNet(data.Dataset):\n",
    "    def __init__(self, main_dir, transform, word_enc = fastText.load_model(\"/data/m.portaz/wiki.en.bin\"), \n",
    "                 sset=\"train\"):\n",
    "        self.imageList = []\n",
    "        self.sset = sset\n",
    "        self.ts = transform\n",
    "        self.word_enc = word_enc\n",
    "        for directory in glob.iglob(pth.join(main_dir + '*')):\n",
    "            if pth.isdir(directory):\n",
    "                d = pth.basename(directory)\n",
    "                s = wordnet.synset_from_pos_and_offset(d[0], int(d[1:]))\n",
    "                \n",
    "                for image in glob.iglob(pth.join(directory, \"*.jpg\")):\n",
    "                    if sset == \"train\":\n",
    "                        self.imageList.append( (image, s.lemma_names()) )\n",
    "                    else :\n",
    "                        self.imageList.append( (image, [s.lemma_names()[0]]) )\n",
    "                    \n",
    "    def __len__(self):\n",
    "        return len(self.imageList)\n",
    "    \n",
    "    def __getitem__(self, index):\n",
    "        im, cl = self.imageList[index]\n",
    "        txt_emb = self.word_enc.get_sentence_vector( random.choice(cl).replace(\"_\", \" \") )\n",
    "        return self.ts(Image.open(im).convert(\"RGB\")), txt_emb"
   ]
  },
  {
   "cell_type": "code",
   "execution_count": 61,
   "metadata": {},
   "outputs": [
    {
     "name": "stdout",
     "output_type": "stream",
     "text": [
      "torch.Size([3, 224, 224]) (300,)\n"
     ]
    }
   ],
   "source": [
    "if __name__ == \"__main__\":\n",
    "    main_dir = \"/data/datasets/imageNet/images/\"\n",
    "    normalize = transforms.Normalize(\n",
    "            mean=[0.485, 0.456, 0.406], std=[0.229, 0.224, 0.225])\n",
    "\n",
    "    prepro = transforms.Compose([\n",
    "        transforms.RandomResizedCrop(224),\n",
    "\n",
    "        transforms.RandomHorizontalFlip(),\n",
    "        transforms.ToTensor(),\n",
    "        normalize,\n",
    "    ])\n",
    "    d = FullImageNet(main_dir, transform=prepro)\n",
    "    print(d[0][0].shape, d[0][1].shape)"
   ]
  }
 ],
 "metadata": {
  "kernelspec": {
   "display_name": "Python 3",
   "language": "python",
   "name": "python3"
  },
  "language_info": {
   "codemirror_mode": {
    "name": "ipython",
    "version": 3
   },
   "file_extension": ".py",
   "mimetype": "text/x-python",
   "name": "python",
   "nbconvert_exporter": "python",
   "pygments_lexer": "ipython3",
   "version": "3.6.5"
  }
 },
 "nbformat": 4,
 "nbformat_minor": 2
}
